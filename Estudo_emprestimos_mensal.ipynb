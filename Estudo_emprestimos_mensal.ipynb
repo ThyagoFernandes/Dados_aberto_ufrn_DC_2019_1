{
  "nbformat": 4,
  "nbformat_minor": 0,
  "metadata": {
    "colab": {
      "name": "Estudo_emprestimos_mensal.ipynb",
      "version": "0.3.2",
      "provenance": [],
      "collapsed_sections": []
    },
    "kernelspec": {
      "name": "python3",
      "display_name": "Python 3"
    }
  },
  "cells": [
    {
      "metadata": {
        "id": "x7JRGmSmCxfs",
        "colab_type": "text"
      },
      "cell_type": "markdown",
      "source": [
        "**LEITURA E FORMATAÇÃO DO DATASET**"
      ]
    },
    {
      "metadata": {
        "id": "UrHUcBwbx_Jc",
        "colab_type": "code",
        "colab": {}
      },
      "cell_type": "code",
      "source": [
        "import pandas as pd\n",
        "import numpy as np\n",
        "import seaborn as sns\n",
        "import matplotlib.pyplot as plt\n",
        "import datetime\n",
        "filepath = 'emprestimos.txt'\n",
        "filenames = []\n",
        "with open(filepath) as fp:  \n",
        "   line = fp.readline()\n",
        "   cnt = 1\n",
        "   while line:\n",
        "      filenames.append(line)\n",
        "      line = fp.readline()\n",
        "      cnt += 1\n",
        "\n",
        "semestres = (nome[-6:].rstrip('\\n').strip('-') for nome in filenames)\n",
        "l_empr = [pd.read_csv(name, sep=';') for name in filenames] # lista de dataframes de cada semestre\n",
        "for df in l_empr:\n",
        "  df['semestre'] = next(semestres)  # lista de dataframes de cada semestre\n",
        "  print(df['codigo_barras'].value_counts().head(1))\n",
        "emprestimo_bruto = pd.concat(l_empr,axis=0) # Concat neles\n",
        "exemplares_arcevo =  pd.read_csv('http://bit.do/exemplares_arcervo', sep=';')\n",
        "exemplares_sem_barra = pd.read_csv('http://bit.do/arcevo', sep=';')\n",
        "exemplares_com_barra = pd.read_csv('http://bit.do/exemplares', sep=';')\n",
        "exemplares_merge = pd.merge (exemplares_arcevo,exemplares_com_barra, on = 'registro_sistema',how='inner')\n",
        "emprestimo_bruto['data_emprestimo']= pd.to_datetime(emprestimo_bruto['data_emprestimo'], errors='coerce')\n",
        "emprestimo_bruto['data_devolucao']= pd.to_datetime(emprestimo_bruto['data_devolucao'], errors='coerce')\n",
        "emprestimo_bruto['data_renovacao']= pd.to_datetime(emprestimo_bruto['data_devolucao'], errors='coerce')\n",
        "emprestimo_bruto.dropna(axis=0,subset=['data_devolucao'],inplace=True)\n",
        "emprestimo_bruto['tempo_pra_devolver'] = emprestimo_bruto['data_devolucao'] -emprestimo_bruto['data_emprestimo']\n",
        "emprestimo = pd.merge(emprestimo_bruto,exemplares_merge, on = 'codigo_barras',how= 'left') # mergem do emprestimo com os exemplares pra vincular os nomes dos livros aos empréstimos\n",
        "emprestimo.set_index('data_emprestimo',inplace=True)\n",
        "emprestimo.sort_index(inplace = True,ascending = False)\n",
        "\n"
      ],
      "execution_count": 0,
      "outputs": []
    },
    {
      "metadata": {
        "id": "gC2_qUrhCpzg",
        "colab_type": "text"
      },
      "cell_type": "markdown",
      "source": [
        "**INFO SOBRE OS DATA SETS**\n"
      ]
    },
    {
      "metadata": {
        "id": "YCpeo7DWGa9q",
        "colab_type": "code",
        "colab": {}
      },
      "cell_type": "code",
      "source": [
        "#emprestimo_bruto['renovado'] =  emprestimo_bruto['data_renovacao'].isnull()\n",
        "\n",
        "#emprestimo_bruto['atrasado'] = (emprestimo_bruto['tempo_pra_devolver'] > '15 days' & emprestimo_bruto['renovado'] == False) | (emprestimo_bruto['tempo_pra_devolver'] > '30 days' & emprestimo_bruto['renovado'] ==True)\n",
        "print('1')\n",
        "print(emprestimo_bruto.info())\n",
        "print('2')\n",
        "print(exemplares_arcevo.info())\n",
        "print('3')\n",
        "print(exemplares_sem_barra.info())\n",
        "print('4')\n",
        "print(exemplares_com_barra.info())\n",
        "\n"
      ],
      "execution_count": 0,
      "outputs": []
    },
    {
      "metadata": {
        "id": "kp-vNyRw_bZi",
        "colab_type": "text"
      },
      "cell_type": "markdown",
      "source": [
        "**TIME SAMPLE POR MÊS EM CADA SEMESTRE E CONTAGEM DE EMPRÉSTIMO**"
      ]
    },
    {
      "metadata": {
        "id": "E1QAoXETND35",
        "colab_type": "code",
        "colab": {}
      },
      "cell_type": "code",
      "source": [
        "from google.colab import files\n",
        "\n",
        "emprestimolist_sem = list()\n",
        "semestres = (nome[-6:].rstrip('\\n').strip('-') for nome in filenames)\n",
        "\n",
        "for s in semestres:\n",
        "  emprestimolist_sem.append(emprestimo[emprestimo['semestre'] == s])\n",
        "emprestimolist_sem_mes = list()\n",
        "for df in emprestimolist_sem:\n",
        "  emprestimolist_sem_mes.append(df.resample('M').count())\n",
        "\n",
        "emprestimolist_sem_mes_rear = list()\n",
        "fig, ax = plt.subplots(nrows = 1, ncols = 1, figsize = (14, 8))\n",
        "for df in emprestimolist_sem_mes:\n",
        "  df.index =  np.arange(1,len(df)+1)\n",
        "  emprestimolist_sem_mes_rear.append(df)\n",
        "for df in emprestimolist_sem_mes_rear:\n",
        "  df.plot(y='id_emprestimo',use_index=True,ax=ax)\n",
        "  plt.savefig('grafico_semestres.png',format = 'png')\n",
        "  files.download('grafico_semestres.png')\n",
        "test = plt.figure()\n",
        "ax.legend(['20121','20122','20131','20132','20141','20142','20151','20152','20161','20162','20171','20172'])\n",
        "ax.set_title('EMPRESTIMO AO DECORRER DO SEMESTRE')\n",
        "ax.set_xlabel('Representacao ordinal do mês em relação ao semestre')\n",
        "ax.set_ylabel('quantidade de emprestimos')\n",
        "#plt.savefig('grafico_semestresaa.png',format = 'png')\n",
        "#files.download('grafico_semestresaa.png')\n",
        "plt.show()"
      ],
      "execution_count": 0,
      "outputs": []
    },
    {
      "metadata": {
        "id": "QeOm-gxqeBdz",
        "colab_type": "code",
        "colab": {}
      },
      "cell_type": "code",
      "source": [
        "semestres = (nome[-6:].rstrip('\\n').strip('-') for nome in filenames)\n",
        "for df in emprestimolist_sem_mes_rear:\n",
        "  test = plt.figure()\n",
        "  s = next(semestres)\n",
        "  df.plot(y='id_emprestimo',use_index=True,figsize = (14, 8),legend=False,)\n",
        "  plt.title('EMPRESTIMO AO DECORRER DO SEMESTRE '+s)\n",
        "  plt.xlabel('Representacao ordinal do mês em relação ao semestre')\n",
        "  plt.ylabel('quantidade de emprestimos')\n",
        "  plt.savefig('grafico_semestres'+s+'.png',format = 'png')\n",
        "  files.download('grafico_semestres'+s+'.png')\n",
        "  plt.show()"
      ],
      "execution_count": 0,
      "outputs": []
    }
  ]
}