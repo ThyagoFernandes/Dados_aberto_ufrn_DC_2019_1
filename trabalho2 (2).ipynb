{
  "nbformat": 4,
  "nbformat_minor": 0,
  "metadata": {
    "colab": {
      "name": "trabalho2.ipynb",
      "version": "0.3.2",
      "provenance": [],
      "collapsed_sections": []
    },
    "kernelspec": {
      "name": "python3",
      "display_name": "Python 3"
    }
  },
  "cells": [
    {
      "metadata": {
        "id": "4JC1q5JZqMh1",
        "colab_type": "code",
        "outputId": "6aecbb90-b17e-43c4-f65f-65c82465b0ca",
        "colab": {
          "base_uri": "https://localhost:8080/",
          "height": 305
        }
      },
      "cell_type": "code",
      "source": [
        "#Estudo: Semestre com mais emprestimos e comparativo de emprestimos entre os semestres\n",
        "#Autor: Luís Eduardo Rique Ferreira\n",
        "\n",
        "#Importes\n",
        "import pandas as pd\n",
        "import numpy as np\n",
        "import matplotlib.pyplot as plt\n",
        "import operator\n",
        "\n",
        "#Ler todos os csv\n",
        "emp_121 = pd.read_csv('emprestimos-20121.csv')\n",
        "emp_122 = pd.read_csv('emprestimos-20122.csv')\n",
        "emp_131 = pd.read_csv('emprestimos-20131.csv')\n",
        "emp_132 = pd.read_csv('emprestimos-20132.csv', error_bad_lines=False)\n",
        "emp_141 = pd.read_csv('emprestimos-20141.csv')\n",
        "emp_142 = pd.read_csv('emprestimos-20142.csv')\n",
        "emp_151 = pd.read_csv('emprestimos-20151.csv')\n",
        "emp_152 = pd.read_csv('emprestimos-20152.csv')\n",
        "emp_161 = pd.read_csv('emprestimos-20161.csv')\n",
        "emp_162 = pd.read_csv('emprestimos-20162.csv')\n",
        "emp_171 = pd.read_csv('emprestimos-20171.csv')\n",
        "emp_172 = pd.read_csv('emprestimos-20172.csv')\n",
        "\n",
        "#Quantidade de emprestimos em cada semestre\n",
        "qntd_emp_121 = emp_121.groupby([\"id_emprestimo\"], axis=1).count().sum().values[0]\n",
        "qntd_emp_122 = emp_122.groupby([\"id_emprestimo\"], axis=1).count().sum().values[0]\n",
        "qntd_emp_131 = emp_131.groupby([\"id_emprestimo\"], axis=1).count().sum().values[0]\n",
        "qntd_emp_132 = emp_132.groupby([\"id_emprestimo\"], axis=1).count().sum().values[0]\n",
        "qntd_emp_141 = emp_141.groupby([\"id_emprestimo\"], axis=1).count().sum().values[0]\n",
        "qntd_emp_142 = emp_142.groupby([\"id_emprestimo\"], axis=1).count().sum().values[0]\n",
        "qntd_emp_151 = emp_151.groupby([\"id_emprestimo\"], axis=1).count().sum().values[0]\n",
        "qntd_emp_152 = emp_152.groupby([\"id_emprestimo\"], axis=1).count().sum().values[0]\n",
        "qntd_emp_161 = emp_161.groupby([\"id_emprestimo\"], axis=1).count().sum().values[0]\n",
        "qntd_emp_162 = emp_162.groupby([\"id_emprestimo\"], axis=1).count().sum().values[0]\n",
        "qntd_emp_171 = emp_171.groupby([\"id_emprestimo\"], axis=1).count().sum().values[0]\n",
        "qntd_emp_172 = emp_172.groupby([\"id_emprestimo\"], axis=1).count().sum().values[0]\n",
        "\n",
        "#Criando dicionario com key = semestre, value = quantidade de emprestimos no semestre\n",
        "data_dict = {\n",
        "    \"121\" : qntd_emp_121,\n",
        "    \"122\" : qntd_emp_122,\n",
        "    \"131\" : qntd_emp_131,\n",
        "    \"132\" : qntd_emp_132,\n",
        "    \"141\" : qntd_emp_141,\n",
        "    \"142\" : qntd_emp_142,\n",
        "    \"151\" : qntd_emp_151,\n",
        "    \"152\" : qntd_emp_152,\n",
        "    \"161\" : qntd_emp_161,\n",
        "    \"162\" : qntd_emp_162,\n",
        "    \"171\" : qntd_emp_171,\n",
        "    \"172\" : qntd_emp_172\n",
        "}\n",
        "\n",
        "#Semestre com mais emprestimos\n",
        "sMax = max(data_dict.items(), key=operator.itemgetter(1))[0]\n",
        "print(\"O semestre com mais emprestimos é o: \" + sMax + \" e a quantidade é: \" + str(data_dict[sMax]))\n",
        "\n",
        "#plotando um gráfico em barra com x_axis = semestre, y_axis = quantidade de emprestimos\n",
        "plt.bar(range(len(data_dict)), list(data_dict.values()), align='center')\n",
        "plt.xticks(range(len(data_dict)), list(data_dict.keys()))\n",
        "plt.show()\n"
      ],
      "execution_count": 0,
      "outputs": [
        {
          "output_type": "stream",
          "text": [
            "b'Skipping line 112301: expected 1 fields, saw 2\\n'\n"
          ],
          "name": "stderr"
        },
        {
          "output_type": "stream",
          "text": [
            "O semestre com mais emprestimos é o: 131 e a quantidade é: 135090\n"
          ],
          "name": "stdout"
        },
        {
          "output_type": "display_data",
          "data": {
            "image/png": "[encoded data removed]",
            "text/plain": [
              "<Figure size 432x288 with 1 Axes>"
            ]
          },
          "metadata": {
            "tags": []
          }
        }
      ]
    },
    {
      "metadata": {
        "id": "VQGVy6onvWSA",
        "colab_type": "code",
        "colab": {}
      },
      "cell_type": "code",
      "source": [
        ""
      ],
      "execution_count": 0,
      "outputs": []
    }
  ]
}